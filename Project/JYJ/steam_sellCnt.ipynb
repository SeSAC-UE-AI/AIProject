{
 "cells": [
  {
   "cell_type": "code",
   "execution_count": 8,
   "metadata": {},
   "outputs": [],
   "source": [
    "from selenium import webdriver\n",
    "from selenium.webdriver.chrome.service import Service\n",
    "from webdriver_manager.chrome import ChromeDriverManager\n",
    "from selenium.webdriver.common.by import By     # 태그 가져올 때\n",
    "from selenium.webdriver import Keys             # pageDown 키를 누를 때 필요"
   ]
  },
  {
   "cell_type": "code",
   "execution_count": 9,
   "metadata": {},
   "outputs": [],
   "source": [
    "# 로딩하는 시간 \n",
    "import time"
   ]
  },
  {
   "cell_type": "code",
   "execution_count": 10,
   "metadata": {},
   "outputs": [],
   "source": [
    "## 드라이버 설정\n",
    "chrom_options = webdriver.ChromeOptions()               # 여기 옵션을 추가하여 브라우저 설정을 할 수 있습니다.\n",
    "chrom_options.add_experimental_option('detach', True)   # 브라우저 꺼지는 것을 방지\n",
    "driver = webdriver.Chrome(service = Service(ChromeDriverManager().install()),\n",
    "                          options = chrom_options)"
   ]
  },
  {
   "cell_type": "code",
   "execution_count": 11,
   "metadata": {},
   "outputs": [],
   "source": [
    "url = \"https://store.steampowered.com/charts/topselling/global\"\n",
    "driver.get(url)\n",
    "time.sleep(5)\n"
   ]
  },
  {
   "cell_type": "code",
   "execution_count": 12,
   "metadata": {},
   "outputs": [],
   "source": [
    "import pandas as pd\n",
    "import csv"
   ]
  },
  {
   "cell_type": "code",
   "execution_count": 13,
   "metadata": {},
   "outputs": [],
   "source": [
    "title_elements = driver.find_elements(By.CSS_SELECTOR, \"._1n_4-zvf0n4aqGEksbgW9N\")\n",
    "price_elements = driver.find_elements(By.CSS_SELECTOR, \".Wh0L8EnwsPV_8VAu8TOYr\")\n",
    "\n",
    "result_title = []\n",
    "result_price = []\n",
    "result_weeks = []\n",
    "\n",
    "for t in title_elements:\n",
    "    result_title.append(t.text)\n",
    "\n",
    "for t in price_elements:\n",
    "    result_price.append(t.text)\n",
    "\n",
    "\n",
    "# 결과 딕셔너리 초기화\n",
    "\n",
    "df = pd.DataFrame({\n",
    "    '게임 이름' : result_title,\n",
    "    '게임 가격' : result_price\n",
    "})\n",
    "\n",
    "# CSV 파일로 저장\n",
    "csv_file = 'steam_games.csv'\n",
    "df.to_csv(csv_file, index=False, encoding='utf-8-sig')\n",
    "\n"
   ]
  }
 ],
 "metadata": {
  "kernelspec": {
   "display_name": "sesac2024",
   "language": "python",
   "name": "python3"
  },
  "language_info": {
   "codemirror_mode": {
    "name": "ipython",
    "version": 3
   },
   "file_extension": ".py",
   "mimetype": "text/x-python",
   "name": "python",
   "nbconvert_exporter": "python",
   "pygments_lexer": "ipython3",
   "version": "3.12.2"
  }
 },
 "nbformat": 4,
 "nbformat_minor": 2
}
