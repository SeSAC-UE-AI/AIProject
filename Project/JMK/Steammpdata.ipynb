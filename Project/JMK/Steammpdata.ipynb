{
 "cells": [
  {
   "cell_type": "code",
   "execution_count": 2,
   "metadata": {},
   "outputs": [],
   "source": [
    "import time\n",
    "import re\n",
    "import pandas as pd\n",
    "from selenium import webdriver\n",
    "from selenium.webdriver.chrome.service import Service\n",
    "from webdriver_manager.chrome import ChromeDriverManager\n",
    "from selenium.webdriver.common.by import By\n",
    "\n",
    "chrome_options = webdriver.ChromeOptions()\n",
    "chrome_options.add_experimental_option('detach', True)\n",
    "driver = webdriver.Chrome(service=Service(ChromeDriverManager().install()), options=chrome_options)\n",
    "\n",
    "url = 'https://store.steampowered.com/charts/mostplayed'\n",
    "driver.get(url)\n",
    "time.sleep(2)\n",
    "\n",
    "# 알파벳과 숫자로만 이루어진 데이터를 저장할 리스트\n",
    "game_data = []\n",
    "\n",
    "# 게임 목록의 각 행을 선택하는 CSS 선택자\n",
    "rows = driver.find_elements(By.CSS_SELECTOR, 'div._3sJkwsBQuiAc_i3VOWX4tv > table > tbody > tr')\n",
    "\n",
    "# 각 행을 순회하며 게임 정보를 가져옵니다.\n",
    "for row in rows:\n",
    "    # 게임 이름을 가져옵니다.\n",
    "    game_name_element = row.find_element(By.CSS_SELECTOR, 'td._18kGHKeOavDDdJVs9FVhpo > a > div')\n",
    "    game_name = game_name_element.text.strip()\n",
    "    \n",
    "    # 현재 플레이어 수를 가져옵니다.\n",
    "    current_players_element = row.find_element(By.CSS_SELECTOR, 'td:nth-child(5)')\n",
    "    current_players = current_players_element.text.strip()\n",
    "    \n",
    "    # 오늘의 최대 플레이어 수를 가져옵니다.\n",
    "    peak_today_element = row.find_element(By.CSS_SELECTOR, 'td:nth-child(6)')\n",
    "    peak_today = peak_today_element.text.strip()\n",
    "    \n",
    "    # 게임 정보를 저장합니다.\n",
    "    game_info = {\n",
    "        'Game Name': game_name,\n",
    "        'Current Players': current_players,\n",
    "        'Peak Today': peak_today\n",
    "    }\n",
    "    game_data.append(game_info)\n",
    "\n",
    "# 추출된 데이터를 데이터프레임으로 변환합니다.\n",
    "df = pd.DataFrame(game_data)\n",
    "\n",
    "# 데이터프레임을 엑셀 파일로 저장합니다.\n",
    "df.to_excel('steam_game_list.xlsx', index=False)\n",
    "\n",
    "# 브라우저를 닫습니다.\n",
    "driver.quit()"
   ]
  }
 ],
 "metadata": {
  "kernelspec": {
   "display_name": "sesac2024",
   "language": "python",
   "name": "python3"
  },
  "language_info": {
   "codemirror_mode": {
    "name": "ipython",
    "version": 3
   },
   "file_extension": ".py",
   "mimetype": "text/x-python",
   "name": "python",
   "nbconvert_exporter": "python",
   "pygments_lexer": "ipython3",
   "version": "3.12.2"
  }
 },
 "nbformat": 4,
 "nbformat_minor": 2
}
